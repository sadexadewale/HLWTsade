{
 "cells": [
  {
   "cell_type": "code",
   "execution_count": 1,
   "metadata": {},
   "outputs": [
    {
     "ename": "SyntaxError",
     "evalue": "invalid syntax (Temp/ipykernel_9828/1990867343.py, line 2)",
     "output_type": "error",
     "traceback": [
      "\u001b[1;36m  File \u001b[1;32m\"C:\\Users\\Sade\\AppData\\Local\\Temp/ipykernel_9828/1990867343.py\"\u001b[1;36m, line \u001b[1;32m2\u001b[0m\n\u001b[1;33m    if Question == (\"no\")\u001b[0m\n\u001b[1;37m                         ^\u001b[0m\n\u001b[1;31mSyntaxError\u001b[0m\u001b[1;31m:\u001b[0m invalid syntax\n"
     ]
    }
   ],
   "source": [
    "Question = (\"Hello, Will you be going on holiday next year?\") \n",
    "if Question == (\"no\":)\n",
    "\tprint (\"Hopefully you will go next year\")\n",
    "elif Question == (\"yes\":)\n",
    "    print (\"How many times?\")\n",
    "user_ans = int(input(\"ans\"))\n",
    "print (\" I hope you have a nice time\") \n"
   ]
  },
  {
   "cell_type": "code",
   "execution_count": null,
   "metadata": {},
   "outputs": [],
   "source": [
    "Motorbike = 2000\n",
    "\n",
    "def function_1():\n",
    "while motorbike > 1000 :\n",
    "      print(\"The motorbike cost:\", Motorbike)\n",
    "      Motorbike *=0.9\n",
    "\n",
    "function_1(<pass in parameters>)"
   ]
  },
  {
   "cell_type": "code",
   "execution_count": null,
   "metadata": {},
   "outputs": [],
   "source": [
    "number 1 = int(input(\"Please select your first number?\"))\n",
    "number 2 = int (input(\"Please select your second number?\")\n",
    "number 3 = int (input(\"Please select your third number?\"))\n",
    "\n",
    "def procedure_name(<state parameters>):\n",
    "    if sign == +:\n",
    "        print( <number 1> + <number 2>)\n",
    "    elif sign == - :\n",
    "        print(<number 1> - <number 2>)\n",
    "    elif sign == />:\n",
    "        print(<number 1> / <number 2>)\n",
    "    elif sign == *:\n",
    "        print(<number 1> * <number 2>)\n",
    "    elif sign == **:\n",
    "        print(<number 1> ** <number 2>)\n",
    "    elif sign == %:\n",
    "        print(<number 1> % <number 2>)\n",
    "    elif sign == //:\n",
    "        print(<number 1> // <number 2>)\n",
    "    else:\n",
    "        print(\"An appropriate operator was not selected!\")\n",
    "\n",
    "procedure_name(<pass in parameters>)"
   ]
  }
 ],
 "metadata": {
  "interpreter": {
   "hash": "cb9f90bc575e6c8826f897de464d559ad7d56034ae66f7a05693ae6d1865bed4"
  },
  "kernelspec": {
   "display_name": "Python 3.9.9 64-bit (windows store)",
   "language": "python",
   "name": "python3"
  },
  "language_info": {
   "codemirror_mode": {
    "name": "ipython",
    "version": 3
   },
   "file_extension": ".py",
   "mimetype": "text/x-python",
   "name": "python",
   "nbconvert_exporter": "python",
   "pygments_lexer": "ipython3",
   "version": "3.9.9"
  },
  "orig_nbformat": 4
 },
 "nbformat": 4,
 "nbformat_minor": 2
}
